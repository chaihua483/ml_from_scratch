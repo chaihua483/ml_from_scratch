{
 "cells": [
  {
   "cell_type": "markdown",
   "metadata": {},
   "source": [
    "# 生日重复问题\n",
    "\n",
    "- 屋子里有多少人的时候至少有两个人生日重复的"
   ]
  },
  {
   "cell_type": "code",
   "execution_count": 15,
   "metadata": {
    "collapsed": false
   },
   "outputs": [
    {
     "name": "stdout",
     "output_type": "stream",
     "text": [
      "0.50613\n"
     ]
    }
   ],
   "source": [
    "# 门特卡洛\n",
    "import random\n",
    "\n",
    "def generate_birthday_array(num):\n",
    "    return [random.randint(1, 366) for i in range(num)]\n",
    "\n",
    "def find_same_day(A):\n",
    "    return len(A) != len(set(A))\n",
    "\n",
    "num = 23\n",
    "statistics = [find_same_day(generate_birthday_array(num)) for i in range(100000)]\n",
    "print(sum(statistics)/len(statistics))"
   ]
  },
  {
   "cell_type": "code",
   "execution_count": 5,
   "metadata": {
    "collapsed": false
   },
   "outputs": [
    {
     "data": {
      "text/plain": [
       "[161, 161, 161, 161, 161, 161, 161, 161, 161, 161]"
      ]
     },
     "execution_count": 5,
     "metadata": {},
     "output_type": "execute_result"
    }
   ],
   "source": []
  },
  {
   "cell_type": "code",
   "execution_count": null,
   "metadata": {
    "collapsed": true
   },
   "outputs": [],
   "source": []
  }
 ],
 "metadata": {
  "kernelspec": {
   "display_name": "Python [ml]",
   "language": "python",
   "name": "Python [ml]"
  },
  "language_info": {
   "codemirror_mode": {
    "name": "ipython",
    "version": 3
   },
   "file_extension": ".py",
   "mimetype": "text/x-python",
   "name": "python",
   "nbconvert_exporter": "python",
   "pygments_lexer": "ipython3",
   "version": "3.5.2"
  }
 },
 "nbformat": 4,
 "nbformat_minor": 0
}

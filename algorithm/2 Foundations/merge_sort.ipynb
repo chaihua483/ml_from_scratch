{
 "cells": [
  {
   "cell_type": "markdown",
   "metadata": {},
   "source": [
    "## 归并排序"
   ]
  },
  {
   "cell_type": "code",
   "execution_count": 12,
   "metadata": {
    "collapsed": false
   },
   "outputs": [
    {
     "name": "stdout",
     "output_type": "stream",
     "text": [
      "[1, 2, 2, 4, 5, 7, 7, 8, 9]\n"
     ]
    }
   ],
   "source": [
    "# 个人实现\n",
    "\n",
    "def merge(P, Q):\n",
    "    i = j = 0\n",
    "    while j < len(Q):\n",
    "        q = Q[j]\n",
    "        while i < len(P) and P[i] < q:\n",
    "            i += 1\n",
    "        P.insert(i, q)\n",
    "        j += 1\n",
    "    return P\n",
    "            \n",
    "    \n",
    "def merge_sort(A):\n",
    "    if len(A) == 1:\n",
    "        return A\n",
    "    mid = len(A)//2\n",
    "    return merge(merge_sort(A[:mid]), merge_sort(A[mid:]))\n",
    "\n",
    "A = [1,5,7]\n",
    "B = [2,4,6]\n",
    "# print (merge(A, B))\n",
    "\n",
    "A = [5,2,7,1,8,4,9,2,7]\n",
    "print (merge_sort(A))"
   ]
  },
  {
   "cell_type": "code",
   "execution_count": 39,
   "metadata": {
    "collapsed": false
   },
   "outputs": [
    {
     "name": "stdout",
     "output_type": "stream",
     "text": [
      "[1, 2, 4, 5, 6, 7]\n",
      "[1, 2, 2, 4, 5, 7, 7, 8, 9]\n"
     ]
    }
   ],
   "source": [
    "# 算法导论\n",
    "import numpy as np\n",
    "import copy\n",
    "\n",
    "def merge(A, start, mid, end):\n",
    "    n1 = mid - start\n",
    "    n2 = end - mid\n",
    "    L = A[start:mid] + [np.inf]\n",
    "    R = A[mid:end] + [np.inf]\n",
    "    i = j = 0\n",
    "    for k in range(start, end):\n",
    "        if L[i] <= R[j]:\n",
    "            A[k] = L[i]\n",
    "            i += 1\n",
    "        else:\n",
    "            A[k] = R[j]\n",
    "            j += 1\n",
    "    return A\n",
    "    \n",
    "def merge_sort(A, start, end):\n",
    "    if start + 1 >= end:\n",
    "        return A\n",
    "    mid = (start + end)//2\n",
    "    A = merge_sort(A, start, mid)\n",
    "    A = merge_sort(A, mid, end)\n",
    "    return merge(A, start, mid, end)\n",
    "\n",
    "A = [1,5,7]\n",
    "B = [2,4,6]\n",
    "print (merge(A+B, 0, len(A+B)//2, len(A+B)))\n",
    "\n",
    "A = [5,2,7,1,8,4,9,2,7]\n",
    "print (merge_sort(A, 0, len(A)))"
   ]
  },
  {
   "cell_type": "code",
   "execution_count": 18,
   "metadata": {
    "collapsed": false
   },
   "outputs": [
    {
     "data": {
      "text/plain": [
       "nan"
      ]
     },
     "execution_count": 18,
     "metadata": {},
     "output_type": "execute_result"
    }
   ],
   "source": []
  },
  {
   "cell_type": "code",
   "execution_count": null,
   "metadata": {
    "collapsed": true
   },
   "outputs": [],
   "source": []
  }
 ],
 "metadata": {
  "anaconda-cloud": {},
  "kernelspec": {
   "display_name": "Python [ml]",
   "language": "python",
   "name": "Python [ml]"
  },
  "language_info": {
   "codemirror_mode": {
    "name": "ipython",
    "version": 3
   },
   "file_extension": ".py",
   "mimetype": "text/x-python",
   "name": "python",
   "nbconvert_exporter": "python",
   "pygments_lexer": "ipython3",
   "version": "3.5.2"
  }
 },
 "nbformat": 4,
 "nbformat_minor": 0
}

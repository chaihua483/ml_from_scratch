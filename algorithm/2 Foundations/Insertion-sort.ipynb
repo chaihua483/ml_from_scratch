{
 "cells": [
  {
   "cell_type": "markdown",
   "metadata": {
    "collapsed": true
   },
   "source": [
    "## 插入排序"
   ]
  },
  {
   "cell_type": "code",
   "execution_count": 6,
   "metadata": {
    "collapsed": false
   },
   "outputs": [
    {
     "name": "stdout",
     "output_type": "stream",
     "text": [
      "[1, 2, 2, 3, 4, 5, 6, 9]\n"
     ]
    }
   ],
   "source": [
    "# 自己实现\n",
    "def insertion_sort(A):\n",
    "    B = []\n",
    "    for a in A:\n",
    "        if not B:\n",
    "            B.insert(0, a)\n",
    "            continue\n",
    "        flag = 0\n",
    "        for i, b in enumerate(B):\n",
    "            if a < b:\n",
    "                B.insert(i, a)\n",
    "                flag = 1\n",
    "                break\n",
    "        if not flag:\n",
    "            B.append(a)\n",
    "    return B\n",
    "\n",
    "A = [3, 4, 1, 2, 5, 6, 9, 2]\n",
    "print (insertion_sort(A))"
   ]
  },
  {
   "cell_type": "code",
   "execution_count": 16,
   "metadata": {
    "collapsed": false
   },
   "outputs": [
    {
     "name": "stdout",
     "output_type": "stream",
     "text": [
      "[1, 2, 2, 3, 4, 5, 6, 9]\n"
     ]
    }
   ],
   "source": [
    "# 算法导论\n",
    "def insertion_sort(A):\n",
    "    for j in range(1, len(A)):\n",
    "        key = A[j]\n",
    "        i = j-1\n",
    "        while i >= 0 and A[i] > key:\n",
    "            A[i+1] = A[i]\n",
    "            i = i-1\n",
    "        A[i+1] = key\n",
    "    return A\n",
    "            \n",
    "    \n",
    "A = [3, 4, 1, 2, 5, 6, 9, 2]\n",
    "print (insertion_sort(A))"
   ]
  },
  {
   "cell_type": "code",
   "execution_count": null,
   "metadata": {
    "collapsed": true
   },
   "outputs": [],
   "source": []
  }
 ],
 "metadata": {
  "anaconda-cloud": {},
  "kernelspec": {
   "display_name": "Python [ml]",
   "language": "python",
   "name": "Python [ml]"
  },
  "language_info": {
   "codemirror_mode": {
    "name": "ipython",
    "version": 3
   },
   "file_extension": ".py",
   "mimetype": "text/x-python",
   "name": "python",
   "nbconvert_exporter": "python",
   "pygments_lexer": "ipython3",
   "version": "3.5.2"
  }
 },
 "nbformat": 4,
 "nbformat_minor": 0
}

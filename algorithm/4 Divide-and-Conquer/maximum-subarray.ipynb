{
 "cells": [
  {
   "cell_type": "markdown",
   "metadata": {},
   "source": [
    "# 最大子数组"
   ]
  },
  {
   "cell_type": "code",
   "execution_count": 19,
   "metadata": {
    "collapsed": false
   },
   "outputs": [
    {
     "name": "stdout",
     "output_type": "stream",
     "text": [
      "([1, 5, 8, 3, 6, 9, 1, 3], 36)\n"
     ]
    }
   ],
   "source": [
    "# 个人实现\n",
    "def max_subarray(A):\n",
    "    # check if len(A) == 1\n",
    "    if len(A) == 0:\n",
    "        return A, 0\n",
    "    if len(A) == 1:\n",
    "        return A, A[0]\n",
    "    \n",
    "    mid = len(A) // 2\n",
    "    \n",
    "    maxA = []\n",
    "    maxSum = 0\n",
    "    # 检查最大子数组是否包含mid\n",
    "    mid_max = A[mid]\n",
    "    i = mid -1\n",
    "    while i >= 0 and A[i] > 0:\n",
    "        mid_max += A[i]\n",
    "        i -= 1\n",
    "    j = mid +1\n",
    "    while j < len(A) and A[j] > 0:\n",
    "        mid_max += A[j]\n",
    "        j += 1\n",
    "#     print (A, mid)\n",
    "    # check left\n",
    "    left_subA, max_left = max_subarray(A[:mid])\n",
    "    right_subA, max_right = max_subarray(A[mid:])\n",
    "    if max_left > max(max_right, mid_max):\n",
    "        return left_subA, max_left\n",
    "    \n",
    "    if max_right > max(max_left, mid_max):\n",
    "        return right_subA, max_right\n",
    "    \n",
    "    return A[i+1: j], mid_max\n",
    "\n",
    "A = [13, -3, 7, 3, -8, 1, 5, 8, 3, 6, 9, 1, 3, -1, -3]\n",
    "print(max_subarray(A))"
   ]
  },
  {
   "cell_type": "code",
   "execution_count": null,
   "metadata": {
    "collapsed": true
   },
   "outputs": [],
   "source": []
  }
 ],
 "metadata": {
  "kernelspec": {
   "display_name": "Python [ml]",
   "language": "python",
   "name": "Python [ml]"
  },
  "language_info": {
   "codemirror_mode": {
    "name": "ipython",
    "version": 3
   },
   "file_extension": ".py",
   "mimetype": "text/x-python",
   "name": "python",
   "nbconvert_exporter": "python",
   "pygments_lexer": "ipython3",
   "version": "3.5.2"
  }
 },
 "nbformat": 4,
 "nbformat_minor": 0
}

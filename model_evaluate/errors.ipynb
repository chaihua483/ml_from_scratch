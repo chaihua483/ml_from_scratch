{
 "cells": [
  {
   "cell_type": "markdown",
   "metadata": {},
   "source": [
    "# 误差的计算"
   ]
  },
  {
   "cell_type": "code",
   "execution_count": 2,
   "metadata": {
    "collapsed": true
   },
   "outputs": [],
   "source": [
    "# samples\n",
    "\n",
    "import numpy as np\n",
    "origin = np.array([1,0,1,1,1,0,0,0,1,0,1,0])\n",
    "assumption = np.array([1,0,0,1,1,1,0,0,1,0,1,1])"
   ]
  },
  {
   "cell_type": "code",
   "execution_count": 7,
   "metadata": {
    "collapsed": false
   },
   "outputs": [
    {
     "data": {
      "text/plain": [
       "0.25"
      ]
     },
     "execution_count": 7,
     "metadata": {},
     "output_type": "execute_result"
    }
   ],
   "source": [
    "# Error rate\n",
    "def cal_error_rate(org, asp):\n",
    "    assert(org.shape[0] == asp.shape[0])\n",
    "    return np.sum(origin != assumption)/org.shape[0]\n",
    "\n",
    "cal_error(origin, assumption)"
   ]
  },
  {
   "cell_type": "markdown",
   "metadata": {},
   "source": [
    "- 训练误差\n",
    "    - training error | empirical error\n",
    "- 泛化误差\n",
    "    - generalization error"
   ]
  },
  {
   "cell_type": "markdown",
   "metadata": {},
   "source": [
    "## 采样\n",
    "\n",
    "### Cross Validation\n",
    "\n",
    "> 样本集D分为k组，k-1作训练集，余下1组测试集，k组结果取均值"
   ]
  },
  {
   "cell_type": "markdown",
   "metadata": {},
   "source": [
    "## 均方误差 （MSE）\n",
    "\n",
    "$ E(f;D) = \\frac{1}{m}\\sum_{i=1}^{m}(f(x_i)-y_i)^2 $"
   ]
  },
  {
   "cell_type": "code",
   "execution_count": 8,
   "metadata": {
    "collapsed": false
   },
   "outputs": [
    {
     "data": {
      "text/plain": [
       "0.25"
      ]
     },
     "execution_count": 8,
     "metadata": {},
     "output_type": "execute_result"
    }
   ],
   "source": [
    "def cal_MSE(org, asp):\n",
    "    assert(org.shape[0] == asp.shape[0])\n",
    "    return np.sum((origin - assumption)**2)/org.shape[0]\n",
    "\n",
    "cal_MSE(origin, assumption)"
   ]
  },
  {
   "cell_type": "markdown",
   "metadata": {},
   "source": [
    "## Precision & Recall\n",
    "\n",
    "- Precision = $ \\frac{TP}{TP+FP} $\n",
    "- Recall = $ \\frac{TP}{TP+FN} $\n",
    "\n",
    "P-R 图"
   ]
  },
  {
   "cell_type": "code",
   "execution_count": 14,
   "metadata": {
    "collapsed": false
   },
   "outputs": [
    {
     "data": {
      "text/plain": [
       "(array([ 0,  3,  4,  8, 10]), array([1, 6, 7, 9]), array([ 5, 11]), array([2]))"
      ]
     },
     "execution_count": 14,
     "metadata": {},
     "output_type": "execute_result"
    }
   ],
   "source": [
    "# TFPN\n",
    "def cal_TFPN(org, asp):\n",
    "    LEN = org.shape[0]\n",
    "    TP = np.array([i for i in range(LEN) if org[i]==1 and asp[i]==1])\n",
    "    TN = np.array([i for i in range(LEN) if org[i]==0 and asp[i]==0])\n",
    "    FP = np.array([i for i in range(LEN) if org[i]==0 and asp[i]==1])\n",
    "    FN = np.array([i for i in range(LEN) if org[i]==1 and asp[i]==0])\n",
    "    return TP,TN,FP,FN\n",
    "    \n",
    "cal_TFPN(origin, assumption)"
   ]
  },
  {
   "cell_type": "code",
   "execution_count": 16,
   "metadata": {
    "collapsed": false
   },
   "outputs": [
    {
     "data": {
      "text/plain": [
       "(0.7142857142857143, 0.8333333333333334)"
      ]
     },
     "execution_count": 16,
     "metadata": {},
     "output_type": "execute_result"
    }
   ],
   "source": [
    "# P&R\n",
    "def cal_precision(org, asp):\n",
    "    TP,TN,FP,FN = cal_TFPN(org, asp)\n",
    "    return TP.shape[0]/(TP.shape[0]+FP.shape[0])\n",
    "\n",
    "def cal_recall(org, asp):\n",
    "    TP,TN,FP,FN = cal_TFPN(org, asp)\n",
    "    return TP.shape[0]/(TP.shape[0]+FN.shape[0])\n",
    "\n",
    "p = cal_precision(origin, assumption)\n",
    "r = cal_recall(origin, assumption)\n",
    "p,r"
   ]
  },
  {
   "cell_type": "markdown",
   "metadata": {},
   "source": [
    "## F1 Score\n",
    "\n",
    "> $ F_1 = \\frac{2*P*R}{P+R} = \\frac{2*TP}{N+TP-TN} $\n",
    "\n",
    "> $ F_\\beta $"
   ]
  },
  {
   "cell_type": "code",
   "execution_count": 18,
   "metadata": {
    "collapsed": false
   },
   "outputs": [
    {
     "data": {
      "text/plain": [
       "0.7692307692307692"
      ]
     },
     "execution_count": 18,
     "metadata": {},
     "output_type": "execute_result"
    }
   ],
   "source": [
    "def f1_score(org, asp):\n",
    "    p = cal_precision(org, asp)\n",
    "    r = cal_recall(org, asp)\n",
    "    return 2*p*r/(p+r)\n",
    "\n",
    "f1_score(origin, assumption)"
   ]
  },
  {
   "cell_type": "markdown",
   "metadata": {},
   "source": [
    "## BEP (Break-Even Point) 平衡点\n",
    "\n",
    "> precision = recall"
   ]
  },
  {
   "cell_type": "markdown",
   "metadata": {},
   "source": [
    "## ROC (Receiver Operating Characteristic)\n",
    "\n",
    "> FPR-TPR\n",
    "\n",
    "> $ FPR = \\frac{FP}{TN+FP} $\n",
    "\n",
    "> $ TPR = \\frac{TP}{TP+FN} $"
   ]
  },
  {
   "cell_type": "code",
   "execution_count": 24,
   "metadata": {
    "collapsed": false
   },
   "outputs": [
    {
     "data": {
      "text/plain": [
       "0.75000000000000022"
      ]
     },
     "execution_count": 24,
     "metadata": {},
     "output_type": "execute_result"
    }
   ],
   "source": [
    "from sklearn.metrics import roc_auc_score\n",
    "roc_auc_score(origin, assumption)"
   ]
  },
  {
   "cell_type": "markdown",
   "metadata": {},
   "source": [
    "## 代价敏感错误率\n",
    "\n",
    "### Cost curve"
   ]
  },
  {
   "cell_type": "markdown",
   "metadata": {},
   "source": [
    "## 算法比较检验\n",
    "\n",
    "### Hypothesis test\n",
    "\n",
    "- 二项检验 Binomial test\n",
    "- t-检验 t-test\n",
    "- 交叉验证t检验\n",
    "- McNemar 检验\n",
    "- Friedman 检验+Nemenyi 后续检验\n",
    "\n",
    "### 偏差-方差分解 (bias-variance decomposition)"
   ]
  },
  {
   "cell_type": "code",
   "execution_count": null,
   "metadata": {
    "collapsed": true
   },
   "outputs": [],
   "source": []
  }
 ],
 "metadata": {
  "kernelspec": {
   "display_name": "Python [ml]",
   "language": "python",
   "name": "Python [ml]"
  },
  "language_info": {
   "codemirror_mode": {
    "name": "ipython",
    "version": 3
   },
   "file_extension": ".py",
   "mimetype": "text/x-python",
   "name": "python",
   "nbconvert_exporter": "python",
   "pygments_lexer": "ipython3",
   "version": "3.5.2"
  }
 },
 "nbformat": 4,
 "nbformat_minor": 0
}

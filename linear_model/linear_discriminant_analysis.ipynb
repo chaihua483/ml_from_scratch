{
 "cells": [
  {
   "cell_type": "markdown",
   "metadata": {},
   "source": [
    "# 线性判别分析\n",
    "\n",
    "> Linear Discriminant analysis\n",
    "\n",
    "> Fisher 线性判别\n"
   ]
  },
  {
   "cell_type": "code",
   "execution_count": 5,
   "metadata": {
    "collapsed": false
   },
   "outputs": [
    {
     "data": {
      "text/plain": [
       "<matplotlib.collections.PathCollection at 0x10d618ef0>"
      ]
     },
     "execution_count": 5,
     "metadata": {},
     "output_type": "execute_result"
    },
    {
     "data": {
      "image/png": "[encoded data removed]",
      "text/plain": [
       "<matplotlib.figure.Figure at 0x10d3c11d0>"
      ]
     },
     "metadata": {},
     "output_type": "display_data"
    }
   ],
   "source": [
    "# 构造数据\n",
    "%matplotlib inline  \n",
    "import numpy as np\n",
    "\n",
    "X1 = np.array([[0.23, 0.54],\n",
    "               [0.18, 0.3],\n",
    "               [0.1, 0.4],\n",
    "               [0.09, 0.75],\n",
    "               [0.3, 0.5]])\n",
    "\n",
    "X2 = np.array([[0.73, 0.54],\n",
    "               [0.83, 0.52],\n",
    "               [0.71, 0.49],\n",
    "               [0.19, 0.05],\n",
    "               [0.35, 0.15],\n",
    "               [0.5, 0.3]])\n",
    "\n",
    "import matplotlib.pyplot as plt  \n",
    "\n",
    "plt.scatter(X1[:,0], X1[:,1])\n",
    "plt.hold(True)\n",
    "plt.scatter(X2[:,0], X2[:,1], c='r')"
   ]
  },
  {
   "cell_type": "code",
   "execution_count": 35,
   "metadata": {
    "collapsed": false
   },
   "outputs": [],
   "source": [
    "# 协方差\n",
    "\n",
    "def covariance(X):\n",
    "    return np.dot((X-X.mean(axis=0)).T, (X-X.mean(axis=0)))\n",
    "\n",
    "def S_w(X1, X2):\n",
    "    return covariance(X1)+covariance(X2)\n",
    "\n",
    "def S_b(X1, X2):\n",
    "    return np.array(np.dot( np.matrix(X1.mean(axis=0)-X2.mean(axis=0)).T , \n",
    "                           np.matrix(X1.mean(axis=0)-X2.mean(axis=0)) ))\n"
   ]
  },
  {
   "cell_type": "markdown",
   "metadata": {},
   "source": [
    "## 广义瑞利商\n",
    "\n",
    "> $ J = \\frac{\\omega^T S_b \\omega}{\\omega^T S_{\\omega} \\omega} $"
   ]
  },
  {
   "cell_type": "code",
   "execution_count": 27,
   "metadata": {
    "collapsed": false
   },
   "outputs": [
    {
     "data": {
      "text/plain": [
       "matrix([[1],\n",
       "        [2],\n",
       "        [3]])"
      ]
     },
     "execution_count": 27,
     "metadata": {},
     "output_type": "execute_result"
    }
   ],
   "source": [
    "np.matrix(np.array([1,2,3])).T"
   ]
  },
  {
   "cell_type": "markdown",
   "metadata": {
    "collapsed": true
   },
   "source": []
  }
 ],
 "metadata": {
  "anaconda-cloud": {},
  "kernelspec": {
   "display_name": "Python [ml]",
   "language": "python",
   "name": "Python [ml]"
  },
  "language_info": {
   "codemirror_mode": {
    "name": "ipython",
    "version": 3
   },
   "file_extension": ".py",
   "mimetype": "text/x-python",
   "name": "python",
   "nbconvert_exporter": "python",
   "pygments_lexer": "ipython3",
   "version": "3.5.2"
  }
 },
 "nbformat": 4,
 "nbformat_minor": 0
}

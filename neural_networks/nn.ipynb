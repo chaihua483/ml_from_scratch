{
 "cells": [
  {
   "cell_type": "markdown",
   "metadata": {},
   "source": [
    "## 神经元"
   ]
  },
  {
   "cell_type": "code",
   "execution_count": 2,
   "metadata": {
    "collapsed": true,
    "scrolled": true
   },
   "outputs": [],
   "source": [
    "import numpy as np\n",
    "def sigmoid(X):\n",
    "    return 1/(1+np.e**(-X))"
   ]
  },
  {
   "cell_type": "code",
   "execution_count": 3,
   "metadata": {
    "collapsed": true,
    "scrolled": true
   },
   "outputs": [],
   "source": [
    "# 数据集\n",
    "\n",
    "from sklearn.datasets import load_iris\n",
    "from sklearn.cross_validation import train_test_split\n",
    "iris = load_iris()\n",
    "\n",
    "train_X, test_X, train_Y, test_Y =  train_test_split(iris.data, iris.target, test_size=0.2)"
   ]
  },
  {
   "cell_type": "markdown",
   "metadata": {},
   "source": [
    "## 感知机"
   ]
  },
  {
   "cell_type": "code",
   "execution_count": 4,
   "metadata": {
    "collapsed": false,
    "scrolled": true
   },
   "outputs": [
    {
     "name": "stdout",
     "output_type": "stream",
     "text": [
      "[ 0.108   0.054   0.0915  0.0375 -0.015 ]\n",
      "[ 0.18154165  0.09016802  0.15057444  0.05920081 -0.02705601]\n",
      "[ 0.25477426  0.12247653  0.2098067   0.08181677 -0.03782551]\n",
      "[ 0.20218781  0.08621001  0.19892674  0.08000344 -0.02875888]\n",
      "[ 0.16160822  0.06136536  0.18733257  0.07834713 -0.02047733]\n",
      "[ 0.23920787  0.09219262  0.25430214  0.09748129 -0.03110742]\n",
      "[ 0.29946306  0.12128134  0.30728515  0.12241448 -0.04149625]\n",
      "[ 0.30109167  0.12202889  0.30835309  0.12276156 -0.04176323]\n",
      "[ 0.3027141   0.12281113  0.30956991  0.12313819 -0.04205295]\n",
      "[ 0.26125797  0.09036721  0.30055771  0.12133575 -0.03304075]\n",
      "[ 0.32086852  0.11811695  0.35297388  0.14086334 -0.04331843]\n",
      "[ 0.3224216   0.11879466  0.35401868  0.14114572 -0.04360081]\n",
      "[ 0.38992012  0.15002531  0.41043535  0.1653243  -0.05367521]\n",
      "[ 0.34402897  0.12038728  0.3951383   0.16341217 -0.04411456]\n",
      "[ 0.40658504  0.14863841  0.44356881  0.18157361 -0.05420425]\n",
      "[ 0.40688669  0.14878181  0.44380123  0.18164284 -0.0542537 ]\n"
     ]
    },
    {
     "data": {
      "text/plain": [
       "array([ 0.40688669,  0.14878181,  0.44380123,  0.18164284, -0.0542537 ])"
      ]
     },
     "execution_count": 4,
     "metadata": {},
     "output_type": "execute_result"
    }
   ],
   "source": [
    "def Perceptron(X, Y, alpha=0.01, threshold=1e-6, maxiter=100):\n",
    "    Xh = np.concatenate([X, -np.ones([X.shape[0],1])], axis=1)\n",
    "    W = np.zeros(Xh.shape[1])\n",
    "    step =0\n",
    "    cursor = 0\n",
    "    delta_W = threshold + 1\n",
    "    while np.sum(delta_W**2) > threshold and step <= maxiter:\n",
    "        delta_W = alpha * (Y - sigmoid(np.dot(W, Xh.T)))[cursor] * Xh[cursor,:]\n",
    "        W += delta_W\n",
    "        step += 1\n",
    "        cursor += 1\n",
    "        if cursor >= Xh.shape[0]:\n",
    "            cursor = 0\n",
    "        print(W)\n",
    "    return W\n",
    "\n",
    "Perceptron(train_X, train_Y)\n",
    "    "
   ]
  },
  {
   "cell_type": "markdown",
   "metadata": {},
   "source": [
    "## BP 算法\n",
    "\n",
    "> 训练目标： $ E_k = \\frac{1}{2} \\sum_{j=1}^{l} (\\hat{y}_j^k - y_j^k) $\n",
    "\n",
    "> 更新公式： \n",
    "\n",
    "> $ \\Delta \\omega_{hj} = - \\eta \\frac{\\partial E_k}{\\partial \\omega_{hj}} $\n",
    "\n",
    "> $ = \\eta g_j b_h  $\n",
    "\n",
    "> 其中 $ g_j = \\hat{y}_j^k(1-\\hat{y}_j^h) (y_j^k-\\hat{y}_k^k) $ , $ b_h $ 为隐层的输出"
   ]
  },
  {
   "cell_type": "code",
   "execution_count": 5,
   "metadata": {
    "collapsed": false,
    "scrolled": true
   },
   "outputs": [
    {
     "name": "stdout",
     "output_type": "stream",
     "text": [
      "[ 13.94576393]\n"
     ]
    },
    {
     "ename": "ValueError",
     "evalue": "operands could not be broadcast together with shapes (4,1) (120,4) (4,1) ",
     "output_type": "error",
     "traceback": [
      "\u001b[0;31m---------------------------------------------------------------------------\u001b[0m",
      "\u001b[0;31mValueError\u001b[0m                                Traceback (most recent call last)",
      "\u001b[0;32m<ipython-input-5-63be2433742b>\u001b[0m in \u001b[0;36m<module>\u001b[0;34m()\u001b[0m\n\u001b[1;32m     44\u001b[0m         \u001b[0mstep\u001b[0m \u001b[0;34m+=\u001b[0m\u001b[0;36m1\u001b[0m\u001b[0;34m\u001b[0m\u001b[0m\n\u001b[1;32m     45\u001b[0m \u001b[0;34m\u001b[0m\u001b[0m\n\u001b[0;32m---> 46\u001b[0;31m \u001b[0mback_propagation\u001b[0m\u001b[0;34m(\u001b[0m\u001b[0mtrain_X\u001b[0m\u001b[0;34m,\u001b[0m \u001b[0mtrain_Y\u001b[0m\u001b[0;34m.\u001b[0m\u001b[0mreshape\u001b[0m\u001b[0;34m(\u001b[0m\u001b[0;34m(\u001b[0m\u001b[0mtrain_Y\u001b[0m\u001b[0;34m.\u001b[0m\u001b[0mshape\u001b[0m\u001b[0;34m[\u001b[0m\u001b[0;36m0\u001b[0m\u001b[0;34m]\u001b[0m\u001b[0;34m,\u001b[0m \u001b[0;36m1\u001b[0m\u001b[0;34m)\u001b[0m\u001b[0;34m)\u001b[0m\u001b[0;34m)\u001b[0m\u001b[0;34m\u001b[0m\u001b[0m\n\u001b[0m\u001b[1;32m     47\u001b[0m \u001b[0;34m\u001b[0m\u001b[0m\n\u001b[1;32m     48\u001b[0m \u001b[0;34m\u001b[0m\u001b[0m\n",
      "\u001b[0;32m<ipython-input-5-63be2433742b>\u001b[0m in \u001b[0;36mback_propagation\u001b[0;34m(X, Y, rate)\u001b[0m\n\u001b[1;32m     40\u001b[0m         \u001b[0mg\u001b[0m \u001b[0;34m=\u001b[0m \u001b[0mnp\u001b[0m\u001b[0;34m.\u001b[0m\u001b[0msum\u001b[0m\u001b[0;34m(\u001b[0m\u001b[0my\u001b[0m\u001b[0;34m*\u001b[0m\u001b[0;34m(\u001b[0m\u001b[0;36m1\u001b[0m\u001b[0;34m-\u001b[0m\u001b[0my\u001b[0m\u001b[0;34m)\u001b[0m\u001b[0;34m*\u001b[0m\u001b[0;34m(\u001b[0m\u001b[0mY\u001b[0m\u001b[0;34m-\u001b[0m\u001b[0my\u001b[0m\u001b[0;34m)\u001b[0m\u001b[0;34m,\u001b[0m \u001b[0maxis\u001b[0m\u001b[0;34m=\u001b[0m\u001b[0;36m0\u001b[0m\u001b[0;34m)\u001b[0m\u001b[0;34m\u001b[0m\u001b[0m\n\u001b[1;32m     41\u001b[0m         \u001b[0mprint\u001b[0m\u001b[0;34m(\u001b[0m\u001b[0mg\u001b[0m\u001b[0;34m)\u001b[0m\u001b[0;34m\u001b[0m\u001b[0m\n\u001b[0;32m---> 42\u001b[0;31m         \u001b[0momega1\u001b[0m \u001b[0;34m+=\u001b[0m \u001b[0mrate\u001b[0m \u001b[0;34m*\u001b[0m \u001b[0mg\u001b[0m \u001b[0;34m*\u001b[0m \u001b[0mb\u001b[0m\u001b[0;34m\u001b[0m\u001b[0m\n\u001b[0m\u001b[1;32m     43\u001b[0m \u001b[0;34m\u001b[0m\u001b[0m\n\u001b[1;32m     44\u001b[0m         \u001b[0mstep\u001b[0m \u001b[0;34m+=\u001b[0m\u001b[0;36m1\u001b[0m\u001b[0;34m\u001b[0m\u001b[0m\n",
      "\u001b[0;31mValueError\u001b[0m: operands could not be broadcast together with shapes (4,1) (120,4) (4,1) "
     ]
    }
   ],
   "source": [
    "import numpy as np\n",
    "\n",
    "def activate_function(X):\n",
    "    return 1/(1+np.e**(-X))\n",
    "\n",
    "def back_propagation(X, Y, rate=0.01):\n",
    "    \"\"\"\n",
    "    三层网络，每层都是 sigmoid激活\n",
    "    \n",
    "       y      y      y\n",
    "    \n",
    "       omega1 * h - theta1\n",
    "    \n",
    "    h    h      h       h\n",
    "    \n",
    "        omega0 * h - theta0\n",
    "        \n",
    "       x      x      x\n",
    "    \n",
    "    \"\"\"\n",
    "    layer0 = X.shape[1]+1\n",
    "    layer1 = X.shape[1]\n",
    "    layer2 = Y.shape[1]\n",
    "    \n",
    "    X = np.concatenate([np.ones((X.shape[0],1)), X], axis=1)\n",
    "    np.random.seed(seed=1000)\n",
    "    omega0 = np.random.random((layer0, layer1))-0.5\n",
    "    # theta0 = np.random.random(1)\n",
    "    omega1 = np.random.random((layer1, layer2))-0.5\n",
    "    # theta1 = np.random.random(1)\n",
    "    # print(X)\n",
    "    step = 0\n",
    "    while (step < 1):\n",
    "        _b = np.dot(X, omega0)\n",
    "        b = activate_function(_b)\n",
    "        # print(b)\n",
    "        _y = np.dot(b, omega1)\n",
    "        y = activate_function(_y)\n",
    "        # print(y)\n",
    "        g = np.sum(y*(1-y)*(Y-y), axis=0)\n",
    "        print(g)\n",
    "        omega1 += rate * g * b\n",
    "        \n",
    "        step +=1 \n",
    "\n",
    "back_propagation(train_X, train_Y.reshape((train_Y.shape[0], 1)))\n",
    "\n",
    "\n",
    "\n"
   ]
  },
  {
   "cell_type": "code",
   "execution_count": null,
   "metadata": {
    "collapsed": false,
    "scrolled": true
   },
   "outputs": [],
   "source": [
    "train_X.shape"
   ]
  },
  {
   "cell_type": "code",
   "execution_count": null,
   "metadata": {
    "collapsed": true
   },
   "outputs": [],
   "source": []
  }
 ],
 "metadata": {
  "anaconda-cloud": {},
  "kernelspec": {
   "display_name": "Python [ml]",
   "language": "python",
   "name": "Python [ml]"
  },
  "language_info": {
   "codemirror_mode": {
    "name": "ipython",
    "version": 3
   },
   "file_extension": ".py",
   "mimetype": "text/x-python",
   "name": "python",
   "nbconvert_exporter": "python",
   "pygments_lexer": "ipython3",
   "version": "3.5.2"
  }
 },
 "nbformat": 4,
 "nbformat_minor": 0
}

{
 "cells": [
  {
   "cell_type": "markdown",
   "metadata": {},
   "source": [
    "# RBF\n",
    "\n",
    "$ \\psi(x) = \\sum_{i=1}^{q}\\omega_i\\rho(x, c_i) $\n",
    "\n",
    "q为神经元个数，$c_i$ 和 $\\omega_i$ 分别是第i个神经元对应的中心和权重\n",
    "\n",
    "$ \\rho(x, c_i) = e^{-\\beta_i ||x-c_i||^2} $"
   ]
  },
  {
   "cell_type": "code",
   "execution_count": null,
   "metadata": {
    "collapsed": true
   },
   "outputs": [],
   "source": []
  }
 ],
 "metadata": {
  "anaconda-cloud": {},
  "kernelspec": {
   "display_name": "Python [ml]",
   "language": "python",
   "name": "Python [ml]"
  },
  "language_info": {
   "codemirror_mode": {
    "name": "ipython",
    "version": 3
   },
   "file_extension": ".py",
   "mimetype": "text/x-python",
   "name": "python",
   "nbconvert_exporter": "python",
   "pygments_lexer": "ipython3",
   "version": "3.5.2"
  }
 },
 "nbformat": 4,
 "nbformat_minor": 0
}
